{
 "cells": [
  {
   "cell_type": "code",
   "execution_count": 1,
   "metadata": {
    "collapsed": true
   },
   "outputs": [],
   "source": [
    "import matplotlib.pyplot as plt\n",
    "import pandas as pd #this is how I usually import pandas\n",
    "import sys #only needed to determine Python version number\n",
    "import matplotlib #only needed to determine Matplotlib version number\n",
    "import glob\n",
    "import numpy as np\n",
    "import os, glob\n",
    "import csv\n",
    "import operator\n",
    "from matplotlib import rcParams\n",
    "\n",
    "\n",
    "def buildDataFrame(filePath, colNames, dropCols, numericCols, quant, cut):\n",
    "    df_temp = pd.read_csv(filePath,names=colNames)\n",
    "    for colName in dropCols:\n",
    "        df_temp = df_temp.drop(colName, 1)\n",
    "    df_temp = df_temp[numericCols].apply(pd.to_numeric,errors='coerce')\n",
    "    df_temp = df_temp.sort_values(by='start_ts', ascending=[True])\n",
    "    if quant != 0:\n",
    "        df_temp = df_temp[df_temp.start_ts > df_temp.start_ts.quantile(quant)]\n",
    "    if cut != 0:\n",
    "        df_temp = df_temp[df_temp.latency < cut]\n",
    "    return df_temp\n",
    "\n",
    "#['geo','latency','mx','mn','wc','start_ts']\n",
    "def pruneForDenseWindows(dataframe,percentage):\n",
    "    pd.to_numeric(dataframe.wc)\n",
    "    topWindows = dataframe.wc.quantile(percentage)\n",
    "    #print(topWindows)\n",
    "    dataframe = dataframe[dataframe.wc > topWindows  ]\n",
    "    return dataframe\n",
    "\n",
    "\n",
    "def pandasDraw(listOfFilePaths,_figsize,_range, colNames, dropCols, numericCols, quant, isLatency):\n",
    "    for fileGroup in listOfFilePaths:\n",
    "        df_list = []\n",
    "        for file in fileGroup:\n",
    "            column_name = file.rsplit('.', 1)[0]\n",
    "            temp_df = buildDataFrame(file, colNames, dropCols, numericCols, quant)\n",
    "            if(isLatency):\n",
    "                temp_df_with_cols = pd.DataFrame({column_name:temp_df.latency},\n",
    "                    columns=[column_name])\n",
    "                df_list.append(temp_df_with_cols)\n",
    "            else:\n",
    "                temp_df_with_cols = pd.DataFrame({column_name:temp_df.its},\n",
    "                    columns=[column_name])\n",
    "                df_list.append(temp_df_with_cols)\n",
    "        df_final = pd.concat(df_list)\n",
    "        ax_df_final = df_final.hist(figsize=_figsize,bins=100,range=_range)\n",
    "    plt.show()\n",
    "    \n",
    "\n",
    "\n",
    "def dataGeneratorStats(path,_figsize):\n",
    "    d = {}\n",
    "    fileCount = 0\n",
    "    for filePath in glob.glob(path + '*'):\n",
    "        fileCount = fileCount + 1\n",
    "        reader = csv.reader(open(filePath, 'r'))\n",
    "        for row in reader:\n",
    "            k , v = row\n",
    "            v = int(v) , 1\n",
    "            k = int(k)\n",
    "            if k in d:\n",
    "                d[k]  = tuple(map(operator.add, d[k], v))\n",
    "            else:\n",
    "                d[k] = v\n",
    "    finalD = {}\n",
    "    for k, v in d.items():\n",
    "        if v[1] == fileCount:\n",
    "            finalD[k] = v[0]\n",
    "    df = pd.DataFrame(list(finalD.items()),columns=['ts', 'count'])\n",
    "    df = df.sort_values(by='ts', ascending=[True])\n",
    "    df.plot.bar(y='count', x = 'ts',figsize=_figsize,)\n",
    "    plt.show()\n",
    "\n",
    "def dataGeneratorStatsSeparate(path,_figsize,_xlabel,_ylabel,_xticks):\n",
    "    df_list = []\n",
    "    for filePath in glob.glob(path + '*'):\n",
    "        d = {}\n",
    "        reader = csv.reader(open(filePath, 'r'))\n",
    "        for row in reader:\n",
    "            k , v = row\n",
    "            v = int(v) \n",
    "            k = int(k)\n",
    "            d[k] = v\n",
    "        #print( [int(i[1]) for i in d.items()] )\n",
    "        df = pd.DataFrame({'ts':[int(i[0]) for i in d.items()] , 'count': [int(i[1]) for i in d.items()]},columns=['ts', 'count'])\n",
    "        df = df.sort_values(by='ts', ascending=[True])\n",
    "        minEl = df.ts.iloc[0]\n",
    "        df['ts'] = df['ts'] - minEl\n",
    "        df_list.append(df)\n",
    "        ax=df.plot(y='count', x = 'ts',figsize=_figsize, xticks = np.arange(df.ts.min(),  df.ts.max(), _xticks) ,marker='x')\n",
    "        ax.set_xlabel(_xlabel)\n",
    "        ax.set_ylabel(_ylabel)\n",
    "\n",
    "    #df_final = pd.concat(df_list)\n",
    "    #ax_df_final = df_final.plot.bar(y='count', x = 'ts',figsize=_figsize)\n",
    "    plt.show()\n",
    "\n",
    "def dataGeneratorStatsSeparateOneAxis(path,_figsize,_xlabel,_ylabel,_xticks):\n",
    "    for filePath in glob.glob(path + '*'):\n",
    "        d = {}\n",
    "        reader = csv.reader(open(filePath, 'r'))\n",
    "        for row in reader:\n",
    "            k , v = row\n",
    "            v = int(v) \n",
    "            k = int(k)\n",
    "            d[k] = v\n",
    "        #print( [int(i[1]) for i in d.items()] )\n",
    "        df = pd.DataFrame({'ts':[int(i[0]) for i in d.items()] },columns=['ts'])\n",
    "        df = df.sort_values(by='ts', ascending=[True])\n",
    "        minEl = df.ts.iloc[0]\n",
    "        df['ts'] = df['ts'] - minEl\n",
    "        df['count'] = list(range(1, len(df) + 1))\n",
    "\n",
    "\n",
    "        ax = df.plot.line( x = 'ts',\n",
    "                          y='count',\n",
    "                          figsize=_figsize, \n",
    "                          marker='x',\n",
    "                          xticks = np.arange(df.ts.min(),  df.ts.max(), _xticks))\n",
    "        ax.set_xlabel(_xlabel)\n",
    "        ax.set_ylabel(_ylabel)\n",
    "        \n",
    "    #df_final = pd.concat(df_list)\n",
    "    #ax_df_final = df_final.plot.bar(y='count', x = 'ts',figsize=_figsize)\n",
    "    \n",
    "    plt.show()\n",
    "\n",
    "    \n",
    "def dataGeneratorStatsSeparateOneAxis2(path,_figsize,_xlabel,_ylabel,_xticks):\n",
    "    for filePath in glob.glob(path + '*'):\n",
    "        df = pd.read_csv(filePath,names=['ts','count'])\n",
    "        df['count'] = df['count']/1000000;\n",
    "        df = df.sort_values(by='ts', ascending=[True])\n",
    "        minEl = df.ts.iloc[0]\n",
    "        df['ts'] = df['ts'] - minEl\n",
    "\n",
    "        \n",
    "\n",
    "        ax = df.plot.line( x = 'ts',\n",
    "                          y='count',\n",
    "                          figsize=_figsize, \n",
    "                          marker='x',\n",
    "                          xticks = np.arange(df.ts.min(),  df.ts.max(), _xticks))\n",
    "        ax.set_xlabel(_xlabel)\n",
    "        ax.set_ylabel(_ylabel)\n",
    "        \n",
    "    #df_final = pd.concat(df_list)\n",
    "    #ax_df_final = df_final.plot.bar(y='count', x = 'ts',figsize=_figsize)\n",
    "    \n",
    "    plt.show()\n",
    "\n",
    "def latencyTimeSeries(df,_figsize,_xticks,out_path, _yticks_ts, _ylim_ts):\n",
    "    # df.plot.bar(y='latency', x = 'start_ts',figsize=(100,40))\n",
    "\n",
    "\n",
    "\n",
    "    # plt.show()\n",
    "\n",
    "    df = df.sort_values(by='start_ts', ascending=[True])\n",
    "    minEl = df.start_ts.iloc[0]\n",
    "    df['start_ts'] = df['start_ts'] - minEl\n",
    "    df['start_ts'] = df['start_ts'] /1000\n",
    "    \n",
    "    fig, ax = plt.subplots()\n",
    "    print(int(_ylim_ts[1]))\n",
    "    df.plot.line(legend=False, y='latency',\n",
    "                 x = 'start_ts',\n",
    "                 figsize=_figsize,xticks = np.arange(df.start_ts.min(),  df.start_ts.max(), _xticks),\n",
    "                 ax=ax, \n",
    "                 yticks = np.arange(0,  _ylim_ts[1], _yticks_ts), \n",
    "                 ylim=_ylim_ts\n",
    "                )\n",
    "    ax.set(xlabel=\"Timestamp\", ylabel=\"Latency (ms)\")\n",
    "\n",
    "    fig.savefig(out_path + '_ts.eps', format='eps', dpi=10000)\n",
    "\n",
    "\n",
    "\n",
    "    plt.show()\n",
    "\n",
    "\n",
    "#     print('Latency quantile is:')\n",
    "#     df.latency.plot.box()\n",
    "#     plt.show()\n",
    "    print('average latency is:')\n",
    "    print(df.latency.mean())\n",
    "    print('min latency is:')\n",
    "    print(df.latency.min())\n",
    "    print('max latency is:')\n",
    "    print(df.latency.max())\n",
    "    print('quantiles:')\n",
    "    print(df.latency.quantile(0.9) )\n",
    "    print( df.latency.quantile(0.95))\n",
    "    print( df.latency.quantile(0.99))\n",
    "\n",
    "\n",
    "\n",
    "\n",
    "\n",
    "#     print(' window size quantile is:')\n",
    "#     df.wc.plot.box()\n",
    "#     plt.show()\n",
    "#     print('average window size is:')\n",
    "#     print(df.wc.mean())\n",
    "\n",
    "def drawAggregationFigures(in_path,out_path,_range,_figsize, _bins,_xticks, _ylim_hist, _yticks_ts, _cut, _ylim_ts):\n",
    "    temp_df = buildDataFrame(in_path,\n",
    "               ['geo','latency','avg','wc','start_ts'],\n",
    "               ['geo','avg'],\n",
    "               ['latency','wc','start_ts'],\n",
    "              0.25, _cut)\n",
    "    df = pd.DataFrame({'latency':temp_df.latency,  'start_ts':temp_df.start_ts, 'wc':temp_df.wc},\n",
    "                      columns=['latency','start_ts','wc'])\n",
    "    rcParams.update({'figure.autolayout': True})\n",
    "    fig, ax = plt.subplots()\n",
    "    ax_df_final = df.latency.plot.hist(ylim=_ylim_hist,figsize=_figsize,bins=_bins,range=_range,ax=ax)\n",
    "    ax.set(xlabel=\"Latency (ms)\", ylabel=\"Count\")\n",
    "\n",
    "    latencyTimeSeries(df,_figsize,_xticks, out_path,_yticks_ts, _ylim_ts)\n",
    "    fig.savefig(out_path+'_hist.eps', format='eps', dpi=10000)\n",
    "    plt.show()\n",
    "\n",
    "\n",
    "\n",
    "\n",
    "\n",
    "\n",
    "\n",
    "\n"
   ]
  },
  {
   "cell_type": "code",
   "execution_count": null,
   "metadata": {
    "collapsed": false
   },
   "outputs": [],
   "source": [
    "drawAggregationFigures('/Users/jeka01/Desktop/temp/temp/spark_temp.csv','/Users/jeka01/Desktop/temp/temp/spark_temp',[0,8000],(12,5),100,200)\n"
   ]
  },
  {
   "cell_type": "markdown",
   "metadata": {},
   "source": [
    "###  2 node, 8-4 window, 4000 batch, th_max\n",
    "\n",
    "Parameters:\n",
    "- 379K tuples/second Data generation rate and throughout\n",
    "- Sleep 1 ms for every 28 tuples generated\n",
    "- parallelism 32\n",
    "- block interval 800ms\n",
    "\n",
    "\n",
    "\n"
   ]
  },
  {
   "cell_type": "code",
   "execution_count": 2,
   "metadata": {
    "collapsed": false
   },
   "outputs": [
    {
     "name": "stdout",
     "output_type": "stream",
     "text": [
      "18000\n"
     ]
    },
    {
     "name": "stderr",
     "output_type": "stream",
     "text": [
      "/Library/Frameworks/Python.framework/Versions/3.5/lib/python3.5/site-packages/matplotlib/figure.py:1742: UserWarning: This figure includes Axes that are not compatible with tight_layout, so its results might be incorrect.\n",
      "  warnings.warn(\"This figure includes Axes that are not \"\n"
     ]
    },
    {
     "data": {
      "image/png": "[encoded data removed]",
      "text/plain": [
       "<matplotlib.figure.Figure at 0x10690a400>"
      ]
     },
     "metadata": {},
     "output_type": "display_data"
    },
    {
     "data": {
      "image/png": "[encoded data removed]",
      "text/plain": [
       "<matplotlib.figure.Figure at 0x10baa2be0>"
      ]
     },
     "metadata": {},
     "output_type": "display_data"
    },
    {
     "name": "stdout",
     "output_type": "stream",
     "text": [
      "average latency is:\n",
      "3673.67914287\n",
      "min latency is:\n",
      "2537\n",
      "max latency is:\n",
      "8596\n",
      "quantiles:\n",
      "4603.0\n",
      "4953.0\n",
      "5990.059999999998\n"
     ]
    }
   ],
   "source": [
    "drawAggregationFigures('../results/spark_agg_2node_th_max.csv','../paper/images/eps/spark_agg_2node_th_max'\n",
    "                       ,[0,8000],(4,2),100,500, (0,40000), 2000, 0, (0,18000))\n",
    "\n",
    "\n"
   ]
  },
  {
   "cell_type": "markdown",
   "metadata": {},
   "source": [
    "###  2 node, 8-4 window, 4000 batch, th_90\n",
    "\n",
    "Parameters:\n",
    "- 339K tuples/second Data generation rate and throughout\n",
    "- Sleep 1 ms for every 25 tuples generated\n",
    "- parallelism 32\n",
    "- block interval 800ms\n",
    "\n",
    "\n"
   ]
  },
  {
   "cell_type": "code",
   "execution_count": 62,
   "metadata": {
    "collapsed": false
   },
   "outputs": [
    {
     "name": "stdout",
     "output_type": "stream",
     "text": [
      "18000\n"
     ]
    },
    {
     "name": "stderr",
     "output_type": "stream",
     "text": [
      "/Library/Frameworks/Python.framework/Versions/3.5/lib/python3.5/site-packages/matplotlib/figure.py:1742: UserWarning: This figure includes Axes that are not compatible with tight_layout, so its results might be incorrect.\n",
      "  warnings.warn(\"This figure includes Axes that are not \"\n"
     ]
    },
    {
     "data": {
      "image/png": "[encoded data removed]",
      "text/plain": [
       "<matplotlib.figure.Figure at 0x10dd8d278>"
      ]
     },
     "metadata": {},
     "output_type": "display_data"
    },
    {
     "data": {
      "image/png": "[encoded data removed]",
      "text/plain": [
       "<matplotlib.figure.Figure at 0x10ac42e48>"
      ]
     },
     "metadata": {},
     "output_type": "display_data"
    },
    {
     "name": "stdout",
     "output_type": "stream",
     "text": [
      "average latency is:\n",
      "3411.82318728\n",
      "min latency is:\n",
      "2354\n",
      "max latency is:\n",
      "7548\n",
      "quantiles:\n",
      "3933.0\n",
      "4529.0\n",
      "5375.459999999992\n"
     ]
    }
   ],
   "source": [
    "drawAggregationFigures('../results/spark_agg_2node_th_90.csv','../paper/images/eps/spark_agg_2node_th_90'\n",
    "                       ,[0,8000],(4,2),100,500, (0,40000), 2000, 7800, (0,18000))\n",
    "\n"
   ]
  },
  {
   "cell_type": "markdown",
   "metadata": {
    "collapsed": true
   },
   "source": [
    "###  4 node, 8-4 window, 4000 batch, th_max\n",
    "\n",
    "Parameters:\n",
    "- 642K tuples/second Data generation rate and throughout\n",
    "- Sleep 1 ms for every 50 tuples generated\n",
    "- parallelism 64\n",
    "- block interval 200ms\n",
    "\n",
    "\n"
   ]
  },
  {
   "cell_type": "code",
   "execution_count": 63,
   "metadata": {
    "collapsed": false
   },
   "outputs": [
    {
     "name": "stdout",
     "output_type": "stream",
     "text": [
      "18000\n"
     ]
    },
    {
     "name": "stderr",
     "output_type": "stream",
     "text": [
      "/Library/Frameworks/Python.framework/Versions/3.5/lib/python3.5/site-packages/matplotlib/figure.py:1742: UserWarning: This figure includes Axes that are not compatible with tight_layout, so its results might be incorrect.\n",
      "  warnings.warn(\"This figure includes Axes that are not \"\n"
     ]
    },
    {
     "data": {
      "image/png": "[encoded data removed]",
      "text/plain": [
       "<matplotlib.figure.Figure at 0x1099620f0>"
      ]
     },
     "metadata": {},
     "output_type": "display_data"
    },
    {
     "data": {
      "image/png": "[encoded data removed]",
      "text/plain": [
       "<matplotlib.figure.Figure at 0x107c93b70>"
      ]
     },
     "metadata": {},
     "output_type": "display_data"
    },
    {
     "name": "stdout",
     "output_type": "stream",
     "text": [
      "average latency is:\n",
      "3394.51184562\n",
      "min latency is:\n",
      "1987\n",
      "max latency is:\n",
      "6934\n",
      "quantiles:\n",
      "4076.100000000006\n",
      "4315.0\n",
      "4955.210000000006\n"
     ]
    }
   ],
   "source": [
    "drawAggregationFigures('../results/spark_agg_4node_th_max.csv','../paper/images/eps/spark_agg_4node_th_max'\n",
    "                       ,[0,8000],(4,2),100,500, (0,40000), 2000,0, (0,18000))\n",
    "\n",
    "\n"
   ]
  },
  {
   "cell_type": "markdown",
   "metadata": {},
   "source": [
    "###  4 node, 8-4 window, 4000 batch, th_90\n",
    "\n",
    "Parameters:\n",
    "- 576K tuples/second Data generation rate and throughout\n",
    "- Sleep 1 ms for every 44 tuples generated\n",
    "- parallelism 64\n",
    "- block interval 200ms\n",
    "\n"
   ]
  },
  {
   "cell_type": "code",
   "execution_count": 64,
   "metadata": {
    "collapsed": false
   },
   "outputs": [
    {
     "name": "stdout",
     "output_type": "stream",
     "text": [
      "18000\n"
     ]
    },
    {
     "name": "stderr",
     "output_type": "stream",
     "text": [
      "/Library/Frameworks/Python.framework/Versions/3.5/lib/python3.5/site-packages/matplotlib/figure.py:1742: UserWarning: This figure includes Axes that are not compatible with tight_layout, so its results might be incorrect.\n",
      "  warnings.warn(\"This figure includes Axes that are not \"\n"
     ]
    },
    {
     "data": {
      "image/png": "[encoded data removed]",
      "text/plain": [
       "<matplotlib.figure.Figure at 0x10afb5c88>"
      ]
     },
     "metadata": {},
     "output_type": "display_data"
    },
    {
     "data": {
      "image/png": "[encoded data removed]",
      "text/plain": [
       "<matplotlib.figure.Figure at 0x1098cee48>"
      ]
     },
     "metadata": {},
     "output_type": "display_data"
    },
    {
     "name": "stdout",
     "output_type": "stream",
     "text": [
      "average latency is:\n",
      "2814.68685837\n",
      "min latency is:\n",
      "1630\n",
      "max latency is:\n",
      "6424\n",
      "quantiles:\n",
      "3466.0\n",
      "3753.0\n",
      "4731.4100000000035\n"
     ]
    }
   ],
   "source": [
    "drawAggregationFigures('../results/spark_agg_4node_th_90.csv','../paper/images/eps/spark_agg_4node_th_90'\n",
    "                       ,[0,8000],(4,2),100,500, (0,40000), 2000,6500, (0,18000))\n",
    "\n"
   ]
  },
  {
   "cell_type": "markdown",
   "metadata": {},
   "source": [
    "###  8 node, 8-4 window, 4000 batch th_max\n",
    "\n",
    "Parameters:\n",
    "- 912K tuples/second Data generation rate and throughout\n",
    "- Sleep 1 ms for every 75 tuples generated\n",
    "- parallelism 128\n",
    "- block interval 200ms\n",
    "\n",
    "\n",
    "\n"
   ]
  },
  {
   "cell_type": "code",
   "execution_count": 65,
   "metadata": {
    "collapsed": false
   },
   "outputs": [
    {
     "name": "stdout",
     "output_type": "stream",
     "text": [
      "18000\n"
     ]
    },
    {
     "name": "stderr",
     "output_type": "stream",
     "text": [
      "/Library/Frameworks/Python.framework/Versions/3.5/lib/python3.5/site-packages/matplotlib/figure.py:1742: UserWarning: This figure includes Axes that are not compatible with tight_layout, so its results might be incorrect.\n",
      "  warnings.warn(\"This figure includes Axes that are not \"\n"
     ]
    },
    {
     "data": {
      "image/png": "[encoded data removed]",
      "text/plain": [
       "<matplotlib.figure.Figure at 0x10c636940>"
      ]
     },
     "metadata": {},
     "output_type": "display_data"
    },
    {
     "data": {
      "image/png": "[encoded data removed]",
      "text/plain": [
       "<matplotlib.figure.Figure at 0x10b86c0f0>"
      ]
     },
     "metadata": {},
     "output_type": "display_data"
    },
    {
     "name": "stdout",
     "output_type": "stream",
     "text": [
      "average latency is:\n",
      "3139.07759643\n",
      "min latency is:\n",
      "1223\n",
      "max latency is:\n",
      "6946\n",
      "quantiles:\n",
      "3896.0\n",
      "4162.0\n",
      "4711.0\n"
     ]
    }
   ],
   "source": [
    "drawAggregationFigures('../results/spark_agg_8node_th_max.csv','../paper/images/eps/spark_agg_8node_th_max'\n",
    "                       ,[0,8000],(4,2),100,500, (0,40000), 2000,0, (0,18000))\n",
    "\n"
   ]
  },
  {
   "cell_type": "markdown",
   "metadata": {},
   "source": [
    "\n",
    "\n",
    "###  8 node, 8-4 window, 4000 batch th_90\n",
    "\n",
    "Parameters:\n",
    "- 810K tuples/second Data generation rate and throughout\n",
    "- Sleep 1 ms for every 65 tuples generated\n",
    "- parallelism 128\n",
    "- block interval 200ms\n",
    "\n",
    "\n",
    "\n"
   ]
  },
  {
   "cell_type": "code",
   "execution_count": 66,
   "metadata": {
    "collapsed": false
   },
   "outputs": [
    {
     "name": "stdout",
     "output_type": "stream",
     "text": [
      "18000\n"
     ]
    },
    {
     "name": "stderr",
     "output_type": "stream",
     "text": [
      "/Library/Frameworks/Python.framework/Versions/3.5/lib/python3.5/site-packages/matplotlib/figure.py:1742: UserWarning: This figure includes Axes that are not compatible with tight_layout, so its results might be incorrect.\n",
      "  warnings.warn(\"This figure includes Axes that are not \"\n"
     ]
    },
    {
     "data": {
      "image/png": "[encoded data removed]",
      "text/plain": [
       "<matplotlib.figure.Figure at 0x10a8c49b0>"
      ]
     },
     "metadata": {},
     "output_type": "display_data"
    },
    {
     "data": {
      "image/png": "[encoded data removed]",
      "text/plain": [
       "<matplotlib.figure.Figure at 0x10a896e48>"
      ]
     },
     "metadata": {},
     "output_type": "display_data"
    },
    {
     "name": "stdout",
     "output_type": "stream",
     "text": [
      "average latency is:\n",
      "2773.37394923\n",
      "min latency is:\n",
      "1702\n",
      "max latency is:\n",
      "5497\n",
      "quantiles:\n",
      "3612.0\n",
      "3920.199999999997\n",
      "4580.639999999999\n"
     ]
    }
   ],
   "source": [
    "\n",
    "drawAggregationFigures('../results/spark_agg_8node_th_90.csv','../paper/images/eps/spark_agg_8node_th_90'\n",
    "                       ,[0,8000],(4,2),100,500, (0,40000), 2000,5500, (0,18000))\n",
    "\n",
    "\n"
   ]
  },
  {
   "cell_type": "markdown",
   "metadata": {},
   "source": []
  },
  {
   "cell_type": "code",
   "execution_count": null,
   "metadata": {
    "collapsed": false
   },
   "outputs": [],
   "source": [
    "\n"
   ]
  },
  {
   "cell_type": "markdown",
   "metadata": {},
   "source": [
    "\n"
   ]
  },
  {
   "cell_type": "code",
   "execution_count": null,
   "metadata": {
    "collapsed": false
   },
   "outputs": [],
   "source": [
    "\n"
   ]
  },
  {
   "cell_type": "markdown",
   "metadata": {},
   "source": []
  },
  {
   "cell_type": "code",
   "execution_count": null,
   "metadata": {
    "collapsed": false
   },
   "outputs": [],
   "source": []
  },
  {
   "cell_type": "markdown",
   "metadata": {},
   "source": []
  },
  {
   "cell_type": "code",
   "execution_count": null,
   "metadata": {
    "collapsed": false
   },
   "outputs": [],
   "source": [
    "\n"
   ]
  },
  {
   "cell_type": "code",
   "execution_count": null,
   "metadata": {
    "collapsed": true
   },
   "outputs": [],
   "source": []
  }
 ],
 "metadata": {
  "kernelspec": {
   "display_name": "Python 3",
   "language": "python",
   "name": "python3"
  },
  "language_info": {
   "codemirror_mode": {
    "name": "ipython",
    "version": 3
   },
   "file_extension": ".py",
   "mimetype": "text/x-python",
   "name": "python",
   "nbconvert_exporter": "python",
   "pygments_lexer": "ipython3",
   "version": "3.5.3"
  }
 },
 "nbformat": 4,
 "nbformat_minor": 1
}
