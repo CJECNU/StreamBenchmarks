{
 "cells": [
  {
   "cell_type": "code",
   "execution_count": 16,
   "metadata": {
    "collapsed": false
   },
   "outputs": [],
   "source": [
    "import paramiko\n",
    "ssh = paramiko.SSHClient()\n",
    "ssh.set_missing_host_key_policy(paramiko.AutoAddPolicy())\n",
    "ssh.connect('cloud-11.dima.tu-berlin.de', username='jeyhun-karimov', \n",
    "    password='jk4dima+')\n",
    "sftp_client = ssh.open_sftp()\n",
    "\n",
    "remote_file = sftp_client.open('/share/hadoop/jkarimov/workDir/StreamBenchmarks/output/flink/flink.csv')\n",
    "sftp_client.get( '/share/hadoop/jkarimov/workDir/StreamBenchmarks/output/flink/flink.csv','/Users/jeka01/Desktop/dede.csv')\n",
    "sftp_client.close()\n",
    "ssh.close()\n",
    "\n",
    "\n",
    "\n",
    "\n",
    "\n",
    "\n"
   ]
  },
  {
   "cell_type": "code",
   "execution_count": null,
   "metadata": {
    "collapsed": true
   },
   "outputs": [],
   "source": []
  }
 ],
 "metadata": {
  "kernelspec": {
   "display_name": "Python 3",
   "language": "python",
   "name": "python3"
  },
  "language_info": {
   "codemirror_mode": {
    "name": "ipython",
    "version": 3
   },
   "file_extension": ".py",
   "mimetype": "text/x-python",
   "name": "python",
   "nbconvert_exporter": "python",
   "pygments_lexer": "ipython3",
   "version": "3.5.2"
  }
 },
 "nbformat": 4,
 "nbformat_minor": 1
}
