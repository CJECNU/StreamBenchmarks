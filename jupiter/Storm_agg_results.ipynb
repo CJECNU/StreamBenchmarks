{
 "cells": [
  {
   "cell_type": "code",
   "execution_count": 4,
   "metadata": {
    "collapsed": true
   },
   "outputs": [],
   "source": [
    "import matplotlib.pyplot as plt\n",
    "import pandas as pd #this is how I usually import pandas\n",
    "import sys #only needed to determine Python version number\n",
    "import matplotlib #only needed to determine Matplotlib version number\n",
    "import glob\n",
    "import numpy as np\n",
    "import os, glob\n",
    "import csv\n",
    "import operator\n",
    "from matplotlib import rcParams\n",
    "\n",
    "\n",
    "def buildDataFrame(filePath, colNames, dropCols, numericCols, quant, cut):\n",
    "    df_temp = pd.read_csv(filePath,names=colNames)\n",
    "    for colName in dropCols:\n",
    "        df_temp = df_temp.drop(colName, 1)\n",
    "    df_temp = df_temp[numericCols].apply(pd.to_numeric,errors='coerce')\n",
    "    df_temp = df_temp.sort_values(by='start_ts', ascending=[True])\n",
    "    if quant != 0:\n",
    "        df_temp = df_temp[df_temp.start_ts > df_temp.start_ts.quantile(quant)]\n",
    "    if cut != 0:\n",
    "        df_temp = df_temp[df_temp.latency < cut]\n",
    "    return df_temp\n",
    "\n",
    "#['geo','latency','mx','mn','wc','start_ts']\n",
    "def pruneForDenseWindows(dataframe,percentage):\n",
    "    pd.to_numeric(dataframe.wc)\n",
    "    topWindows = dataframe.wc.quantile(percentage)\n",
    "    #print(topWindows)\n",
    "    dataframe = dataframe[dataframe.wc > topWindows  ]\n",
    "    return dataframe\n",
    "\n",
    "\n",
    "def pandasDraw(listOfFilePaths,_figsize,_range, colNames, dropCols, numericCols, quant, isLatency):\n",
    "    for fileGroup in listOfFilePaths:\n",
    "        df_list = []\n",
    "        for file in fileGroup:\n",
    "            column_name = file.rsplit('.', 1)[0]\n",
    "            temp_df = buildDataFrame(file, colNames, dropCols, numericCols, quant)\n",
    "            if(isLatency):\n",
    "                temp_df_with_cols = pd.DataFrame({column_name:temp_df.latency},\n",
    "                    columns=[column_name])\n",
    "                df_list.append(temp_df_with_cols)\n",
    "            else:\n",
    "                temp_df_with_cols = pd.DataFrame({column_name:temp_df.its},\n",
    "                    columns=[column_name])\n",
    "                df_list.append(temp_df_with_cols)\n",
    "        df_final = pd.concat(df_list)\n",
    "        ax_df_final = df_final.hist(figsize=_figsize,bins=100,range=_range)\n",
    "    plt.show()\n",
    "    \n",
    "\n",
    "\n",
    "def dataGeneratorStats(path,_figsize):\n",
    "    d = {}\n",
    "    fileCount = 0\n",
    "    for filePath in glob.glob(path + '*'):\n",
    "        fileCount = fileCount + 1\n",
    "        reader = csv.reader(open(filePath, 'r'))\n",
    "        for row in reader:\n",
    "            k , v = row\n",
    "            v = int(v) , 1\n",
    "            k = int(k)\n",
    "            if k in d:\n",
    "                d[k]  = tuple(map(operator.add, d[k], v))\n",
    "            else:\n",
    "                d[k] = v\n",
    "    finalD = {}\n",
    "    for k, v in d.items():\n",
    "        if v[1] == fileCount:\n",
    "            finalD[k] = v[0]\n",
    "    df = pd.DataFrame(list(finalD.items()),columns=['ts', 'count'])\n",
    "    df = df.sort_values(by='ts', ascending=[True])\n",
    "    df.plot.bar(y='count', x = 'ts',figsize=_figsize,)\n",
    "    plt.show()\n",
    "\n",
    "def dataGeneratorStatsSeparate(path,_figsize,_xlabel,_ylabel,_xticks):\n",
    "    df_list = []\n",
    "    for filePath in glob.glob(path + '*'):\n",
    "        d = {}\n",
    "        reader = csv.reader(open(filePath, 'r'))\n",
    "        for row in reader:\n",
    "            k , v = row\n",
    "            v = int(v) \n",
    "            k = int(k)\n",
    "            d[k] = v\n",
    "        #print( [int(i[1]) for i in d.items()] )\n",
    "        df = pd.DataFrame({'ts':[int(i[0]) for i in d.items()] , 'count': [int(i[1]) for i in d.items()]},columns=['ts', 'count'])\n",
    "        df = df.sort_values(by='ts', ascending=[True])\n",
    "        minEl = df.ts.iloc[0]\n",
    "        df['ts'] = df['ts'] - minEl\n",
    "        df_list.append(df)\n",
    "        ax=df.plot(y='count', x = 'ts',figsize=_figsize, xticks = np.arange(df.ts.min(),  df.ts.max(), _xticks) ,marker='x')\n",
    "        ax.set_xlabel(_xlabel)\n",
    "        ax.set_ylabel(_ylabel)\n",
    "\n",
    "    #df_final = pd.concat(df_list)\n",
    "    #ax_df_final = df_final.plot.bar(y='count', x = 'ts',figsize=_figsize)\n",
    "    plt.show()\n",
    "\n",
    "def dataGeneratorStatsSeparateOneAxis(path,_figsize,_xlabel,_ylabel,_xticks):\n",
    "    for filePath in glob.glob(path + '*'):\n",
    "        d = {}\n",
    "        reader = csv.reader(open(filePath, 'r'))\n",
    "        for row in reader:\n",
    "            k , v = row\n",
    "            v = int(v) \n",
    "            k = int(k)\n",
    "            d[k] = v\n",
    "        #print( [int(i[1]) for i in d.items()] )\n",
    "        df = pd.DataFrame({'ts':[int(i[0]) for i in d.items()] },columns=['ts'])\n",
    "        df = df.sort_values(by='ts', ascending=[True])\n",
    "        minEl = df.ts.iloc[0]\n",
    "        df['ts'] = df['ts'] - minEl\n",
    "        df['count'] = list(range(1, len(df) + 1))\n",
    "\n",
    "\n",
    "        ax = df.plot.line( x = 'ts',\n",
    "                          y='count',\n",
    "                          figsize=_figsize, \n",
    "                          marker='x',\n",
    "                          xticks = np.arange(df.ts.min(),  df.ts.max(), _xticks))\n",
    "        ax.set_xlabel(_xlabel)\n",
    "        ax.set_ylabel(_ylabel)\n",
    "        \n",
    "    #df_final = pd.concat(df_list)\n",
    "    #ax_df_final = df_final.plot.bar(y='count', x = 'ts',figsize=_figsize)\n",
    "    \n",
    "    plt.show()\n",
    "\n",
    "    \n",
    "def dataGeneratorStatsSeparateOneAxis2(path,_figsize,_xlabel,_ylabel,_xticks):\n",
    "    for filePath in glob.glob(path + '*'):\n",
    "        df = pd.read_csv(filePath,names=['ts','count'])\n",
    "        df['count'] = df['count']/1000000;\n",
    "        df = df.sort_values(by='ts', ascending=[True])\n",
    "        minEl = df.ts.iloc[0]\n",
    "        df['ts'] = df['ts'] - minEl\n",
    "\n",
    "        \n",
    "\n",
    "        ax = df.plot.line( x = 'ts',\n",
    "                          y='count',\n",
    "                          figsize=_figsize, \n",
    "                          marker='x',\n",
    "                          xticks = np.arange(df.ts.min(),  df.ts.max(), _xticks))\n",
    "        ax.set_xlabel(_xlabel)\n",
    "        ax.set_ylabel(_ylabel)\n",
    "        \n",
    "    #df_final = pd.concat(df_list)\n",
    "    #ax_df_final = df_final.plot.bar(y='count', x = 'ts',figsize=_figsize)\n",
    "    \n",
    "    plt.show()\n",
    "\n",
    "def latencyTimeSeries(df,_figsize,_xticks,out_path, _yticks_ts, _ylim_ts):\n",
    "    # df.plot.bar(y='latency', x = 'start_ts',figsize=(100,40))\n",
    "\n",
    "\n",
    "\n",
    "    # plt.show()\n",
    "\n",
    "    df = df.sort_values(by='start_ts', ascending=[True])\n",
    "    minEl = df.start_ts.iloc[0]\n",
    "    df['start_ts'] = df['start_ts'] - minEl\n",
    "    df['start_ts'] = df['start_ts'] /1000\n",
    "    \n",
    "    fig, ax = plt.subplots()\n",
    "    print(int(_ylim_ts[1]))\n",
    "    df.plot.line(legend=False, y='latency',\n",
    "                 x = 'start_ts',\n",
    "                 figsize=_figsize,xticks = np.arange(df.start_ts.min(),  df.start_ts.max(), _xticks),\n",
    "                 ax=ax, \n",
    "                 yticks = np.arange(0,  _ylim_ts[1], _yticks_ts)\n",
    "                 \n",
    "                )\n",
    "    ax.set(xlabel=\"Timestamp\", ylabel=\"Latency (ms)\")\n",
    "\n",
    "    fig.savefig(out_path + '_ts.eps', format='eps', dpi=10000)\n",
    "\n",
    "\n",
    "\n",
    "    plt.show()\n",
    "\n",
    "\n",
    "#     print('Latency quantile is:')\n",
    "#     df.latency.plot.box()\n",
    "#     plt.show()\n",
    "    print('average latency is:')\n",
    "    print(df.latency.mean())\n",
    "    print('min latency is:')\n",
    "    print(df.latency.min())\n",
    "    print('max latency is:')\n",
    "    print(df.latency.max())\n",
    "    print('quantiles:')\n",
    "    print(df.latency.quantile(0.9) )\n",
    "    print( df.latency.quantile(0.95))\n",
    "    print( df.latency.quantile(0.99))\n",
    "\n",
    "\n",
    "\n",
    "\n",
    "\n",
    "#     print(' window size quantile is:')\n",
    "#     df.wc.plot.box()\n",
    "#     plt.show()\n",
    "#     print('average window size is:')\n",
    "#     print(df.wc.mean())\n",
    "\n",
    "def drawAggregationFigures(in_path,out_path,_range,_figsize, _bins,_xticks, _ylim_hist, _yticks_ts, _cut, _ylim_ts):\n",
    "    temp_df = buildDataFrame(in_path,\n",
    "               ['geo','latency','start_ts', 'avg','wc'],\n",
    "               ['geo','avg'],\n",
    "               ['latency','wc','start_ts'],\n",
    "              0.25, _cut)\n",
    "    df = pd.DataFrame({'latency':temp_df.latency,  'start_ts':temp_df.start_ts, 'wc':temp_df.wc},\n",
    "                      columns=['latency','start_ts','wc'])\n",
    "    rcParams.update({'figure.autolayout': True})\n",
    "    fig, ax = plt.subplots()\n",
    "    ax_df_final = df.latency.plot.hist(ylim=_ylim_hist,figsize=_figsize,bins=_bins,range=_range,ax=ax)\n",
    "    ax.set(xlabel=\"Latency (ms)\", ylabel=\"Count\")\n",
    "\n",
    "    latencyTimeSeries(df,_figsize,_xticks, out_path,_yticks_ts, _ylim_ts)\n",
    "    fig.savefig(out_path+'_hist.eps', format='eps', dpi=10000)\n",
    "    plt.show()\n",
    "\n",
    "\n",
    "\n",
    "\n",
    "\n",
    "\n",
    "\n",
    "\n",
    "\n"
   ]
  },
  {
   "cell_type": "code",
   "execution_count": null,
   "metadata": {
    "collapsed": false
   },
   "outputs": [],
   "source": [
    "\n"
   ]
  },
  {
   "cell_type": "code",
   "execution_count": 2,
   "metadata": {
    "collapsed": false
   },
   "outputs": [
    {
     "ename": "SyntaxError",
     "evalue": "invalid syntax (<ipython-input-2-c493de535a20>, line 1)",
     "output_type": "error",
     "traceback": [
      "\u001b[0;36m  File \u001b[0;32m\"<ipython-input-2-c493de535a20>\"\u001b[0;36m, line \u001b[0;32m1\u001b[0m\n\u001b[0;31m    Storm configuration:\u001b[0m\n\u001b[0m                      ^\u001b[0m\n\u001b[0;31mSyntaxError\u001b[0m\u001b[0;31m:\u001b[0m invalid syntax\n"
     ]
    }
   ],
   "source": [
    "Storm configuration:\n",
    "    parallelism  = 16\n",
    "    \n",
    "    \n",
    "    \n",
    "    \n",
    "    \n",
    "storm.zookeeper.servers:\n",
    "     - \"cloud-11\"\n",
    "#     - \"server2\"\n",
    "#\n",
    "topology.backpressure.enable: true\n",
    "#\n",
    "nimbus.seeds: [\"cloud-11\"]\n",
    "storm.local.dir: /tmp/storm_local_jk/\n",
    "storm.log.dir: /tmp/storm_log_jk/\n",
    "topology.transfer.buffer.size: 32\n",
    "topology.executor.receive.buffer.size: 16384\n",
    "topology.executor.send.buffer.size: 16384\n",
    "supervisor.slots.ports:\n",
    "   - 6700\n",
    "   - 6701\n",
    "   - 6702\n",
    "   - 6703\n",
    "  # - 6704\n",
    "  # - 6705\n",
    "  # - 6706\n",
    "  # - 6707\n",
    "  # - 6708\n",
    "  # - 6709\n",
    "  # - 6710\n",
    "  # - 6711\n",
    "  # - 6712\n",
    "  # - 6713\n",
    "  # - 6714\n",
    "  # - 6715\n",
    "\n",
    "supervisor.memory.capacity.mb: 16384\n",
    "worker.heap.memory.mb: 4096\n",
    "#topology.max.task.parallelism: 160\n",
    "ui.port: 8913\n",
    "topology.workers:  4 * numberOfNodes"
   ]
  },
  {
   "cell_type": "markdown",
   "metadata": {},
   "source": [
    "###  2 node, 8-4 window, 16384 buffer, 16 parallelism, th_max\n",
    "\n",
    "Parameters:\n",
    "- 408K tuples/second Data generation rate and throughout\n",
    "- Sleep 1 ms for every 30 tuples generated\n",
    "\n",
    "\n"
   ]
  },
  {
   "cell_type": "code",
   "execution_count": 6,
   "metadata": {
    "collapsed": false
   },
   "outputs": [
    {
     "name": "stderr",
     "output_type": "stream",
     "text": [
      "/Library/Frameworks/Python.framework/Versions/3.5/lib/python3.5/site-packages/IPython/core/interactiveshell.py:2881: DtypeWarning: Columns (1,4) have mixed types. Specify dtype option on import or set low_memory=False.\n",
      "  exec(code_obj, self.user_global_ns, self.user_ns)\n"
     ]
    },
    {
     "name": "stdout",
     "output_type": "stream",
     "text": [
      "18000\n"
     ]
    },
    {
     "name": "stderr",
     "output_type": "stream",
     "text": [
      "/Library/Frameworks/Python.framework/Versions/3.5/lib/python3.5/site-packages/matplotlib/figure.py:1742: UserWarning: This figure includes Axes that are not compatible with tight_layout, so its results might be incorrect.\n",
      "  warnings.warn(\"This figure includes Axes that are not \"\n"
     ]
    },
    {
     "data": {
      "image/png": "[encoded data removed]",
      "text/plain": [
       "<matplotlib.figure.Figure at 0x10cfdf588>"
      ]
     },
     "metadata": {},
     "output_type": "display_data"
    },
    {
     "data": {
      "image/png": "[encoded data removed]",
      "text/plain": [
       "<matplotlib.figure.Figure at 0x10a0138d0>"
      ]
     },
     "metadata": {},
     "output_type": "display_data"
    },
    {
     "name": "stdout",
     "output_type": "stream",
     "text": [
      "average latency is:\n",
      "1407.8048267\n",
      "min latency is:\n",
      "66.0\n",
      "max latency is:\n",
      "5758.0\n",
      "quantiles:\n",
      "2330.0\n",
      "2721.0\n",
      "3476.979999999996\n"
     ]
    }
   ],
   "source": [
    "drawAggregationFigures('../results/storm_agg_2node_th_max.csv','../paper/images/eps/storm_agg_2node_th_max'\n",
    "                       ,[0,10000],(4,2),100,500, (0,40000), 2000, 0, (0,18000))\n"
   ]
  },
  {
   "cell_type": "markdown",
   "metadata": {},
   "source": [
    "###  2 node, 8-4 window, 16384 buffer, 16 parallelism, th_90\n",
    "\n",
    "Parameters:\n",
    "- 364K tuples/second Data generation rate and throughout\n",
    "- Sleep 1 ms for every 27 tuples generated\n",
    "\n"
   ]
  },
  {
   "cell_type": "code",
   "execution_count": 7,
   "metadata": {
    "collapsed": false
   },
   "outputs": [
    {
     "name": "stderr",
     "output_type": "stream",
     "text": [
      "/Library/Frameworks/Python.framework/Versions/3.5/lib/python3.5/site-packages/IPython/core/interactiveshell.py:2881: DtypeWarning: Columns (1,4) have mixed types. Specify dtype option on import or set low_memory=False.\n",
      "  exec(code_obj, self.user_global_ns, self.user_ns)\n"
     ]
    },
    {
     "name": "stdout",
     "output_type": "stream",
     "text": [
      "18000\n"
     ]
    },
    {
     "name": "stderr",
     "output_type": "stream",
     "text": [
      "/Library/Frameworks/Python.framework/Versions/3.5/lib/python3.5/site-packages/matplotlib/figure.py:1742: UserWarning: This figure includes Axes that are not compatible with tight_layout, so its results might be incorrect.\n",
      "  warnings.warn(\"This figure includes Axes that are not \"\n"
     ]
    },
    {
     "data": {
      "image/png": "[encoded data removed]",
      "text/plain": [
       "<matplotlib.figure.Figure at 0x10bc2fa90>"
      ]
     },
     "metadata": {},
     "output_type": "display_data"
    },
    {
     "data": {
      "image/png": "[encoded data removed]",
      "text/plain": [
       "<matplotlib.figure.Figure at 0x10a4d1710>"
      ]
     },
     "metadata": {},
     "output_type": "display_data"
    },
    {
     "name": "stdout",
     "output_type": "stream",
     "text": [
      "average latency is:\n",
      "1100.29939229\n",
      "min latency is:\n",
      "84.0\n",
      "max latency is:\n",
      "5752.0\n",
      "quantiles:\n",
      "1832.0\n",
      "2176.0\n",
      "2859.0\n"
     ]
    }
   ],
   "source": [
    "drawAggregationFigures('../results/storm_agg_2node_th_90.csv','../paper/images/eps/storm_agg_2node_th_90'\n",
    "                       ,[0,10000],(4,2),100,500, (0,40000), 2000, 0, (0,18000))\n",
    "\n",
    "\n"
   ]
  },
  {
   "cell_type": "markdown",
   "metadata": {},
   "source": [
    "###  4 node, 8-4 window, 16384 buffer, 16 parallelism, th_max\n",
    "\n",
    "Parameters:\n",
    "- 696K tuples/second Data generation rate and throughout\n",
    "- Sleep 1 ms for every 55 tuples generated\n"
   ]
  },
  {
   "cell_type": "code",
   "execution_count": 8,
   "metadata": {
    "collapsed": false
   },
   "outputs": [
    {
     "name": "stdout",
     "output_type": "stream",
     "text": [
      "18000\n"
     ]
    },
    {
     "name": "stderr",
     "output_type": "stream",
     "text": [
      "/Library/Frameworks/Python.framework/Versions/3.5/lib/python3.5/site-packages/matplotlib/figure.py:1742: UserWarning: This figure includes Axes that are not compatible with tight_layout, so its results might be incorrect.\n",
      "  warnings.warn(\"This figure includes Axes that are not \"\n"
     ]
    },
    {
     "data": {
      "image/png": "[encoded data removed]",
      "text/plain": [
       "<matplotlib.figure.Figure at 0x104b4b3c8>"
      ]
     },
     "metadata": {},
     "output_type": "display_data"
    },
    {
     "data": {
      "image/png": "[encoded data removed]",
      "text/plain": [
       "<matplotlib.figure.Figure at 0x10bbcabe0>"
      ]
     },
     "metadata": {},
     "output_type": "display_data"
    },
    {
     "name": "stdout",
     "output_type": "stream",
     "text": [
      "average latency is:\n",
      "2059.26753948\n",
      "min latency is:\n",
      "115.0\n",
      "max latency is:\n",
      "12216.0\n",
      "quantiles:\n",
      "3725.0\n",
      "5860.249999999985\n",
      "7769.690000000002\n"
     ]
    }
   ],
   "source": [
    "drawAggregationFigures('../results/storm_agg_4node_th_max.csv','../paper/images/eps/storm_agg_4node_th_max'\n",
    "                       ,[0,10000],(4,2),100,300, (0,40000), 2000, 0, (0,18000))\n",
    "\n"
   ]
  },
  {
   "cell_type": "markdown",
   "metadata": {
    "collapsed": true
   },
   "source": [
    "###  4 node, 8-4 window, 16384 buffer, 16 parallelism, th_90\n",
    "\n",
    "Parameters:\n",
    "- 627K tuples/second Data generation rate and throughout\n",
    "- Sleep 1 ms for every 49 tuples generated\n",
    "\n"
   ]
  },
  {
   "cell_type": "code",
   "execution_count": 11,
   "metadata": {
    "collapsed": false
   },
   "outputs": [
    {
     "name": "stdout",
     "output_type": "stream",
     "text": [
      "18000\n"
     ]
    },
    {
     "name": "stderr",
     "output_type": "stream",
     "text": [
      "/Library/Frameworks/Python.framework/Versions/3.5/lib/python3.5/site-packages/matplotlib/figure.py:1742: UserWarning: This figure includes Axes that are not compatible with tight_layout, so its results might be incorrect.\n",
      "  warnings.warn(\"This figure includes Axes that are not \"\n"
     ]
    },
    {
     "data": {
      "image/png": "[encoded data removed]",
      "text/plain": [
       "<matplotlib.figure.Figure at 0x10a1fe5f8>"
      ]
     },
     "metadata": {},
     "output_type": "display_data"
    },
    {
     "data": {
      "image/png": "[encoded data removed]",
      "text/plain": [
       "<matplotlib.figure.Figure at 0x10cdd1208>"
      ]
     },
     "metadata": {},
     "output_type": "display_data"
    },
    {
     "name": "stdout",
     "output_type": "stream",
     "text": [
      "average latency is:\n",
      "1676.7838128\n",
      "min latency is:\n",
      "43.0\n",
      "max latency is:\n",
      "9280.0\n",
      "quantiles:\n",
      "2985.199999999997\n",
      "4141.0\n",
      "6339.0\n"
     ]
    }
   ],
   "source": [
    "drawAggregationFigures('../results/storm_agg_4node_th_90.csv','../paper/images/eps/storm_agg_4node_th_90'\n",
    "                       ,[0,10000],(4,2),100,300, (0,40000), 2000, 10000, (0,18000))\n",
    "\n",
    "\n"
   ]
  },
  {
   "cell_type": "markdown",
   "metadata": {
    "collapsed": true
   },
   "source": []
  },
  {
   "cell_type": "markdown",
   "metadata": {
    "collapsed": false
   },
   "source": [
    "###  8 node, 8-4 window, 16384 buffer, 16 parallelism, th_max\n",
    "\n",
    "Parameters:\n",
    "- 992K tuples/second Data generation rate and throughout\n",
    "- Sleep 1 ms for every 83 tuples generated\n",
    "\n",
    "\n"
   ]
  },
  {
   "cell_type": "code",
   "execution_count": 12,
   "metadata": {
    "collapsed": false
   },
   "outputs": [
    {
     "name": "stdout",
     "output_type": "stream",
     "text": [
      "18000\n"
     ]
    },
    {
     "name": "stderr",
     "output_type": "stream",
     "text": [
      "/Library/Frameworks/Python.framework/Versions/3.5/lib/python3.5/site-packages/matplotlib/figure.py:1742: UserWarning: This figure includes Axes that are not compatible with tight_layout, so its results might be incorrect.\n",
      "  warnings.warn(\"This figure includes Axes that are not \"\n"
     ]
    },
    {
     "data": {
      "image/png": "[encoded data removed]",
      "text/plain": [
       "<matplotlib.figure.Figure at 0x10b6a40f0>"
      ]
     },
     "metadata": {},
     "output_type": "display_data"
    },
    {
     "data": {
      "image/png": "[encoded data removed]",
      "text/plain": [
       "<matplotlib.figure.Figure at 0x109e5be48>"
      ]
     },
     "metadata": {},
     "output_type": "display_data"
    },
    {
     "name": "stdout",
     "output_type": "stream",
     "text": [
      "average latency is:\n",
      "2253.76841857\n",
      "min latency is:\n",
      "179\n",
      "max latency is:\n",
      "17762\n",
      "quantiles:\n",
      "3819.0\n",
      "6478.449999999997\n",
      "9245.449999999983\n"
     ]
    }
   ],
   "source": [
    "drawAggregationFigures('../results/storm_agg_8node_th_max.csv','../paper/images/eps/storm_agg_8node_th_max'\n",
    "                       ,[0,10000],(4,2),100,200, (0,40000), 2000, 0, (0,18000))\n",
    "\n"
   ]
  },
  {
   "cell_type": "markdown",
   "metadata": {
    "collapsed": false
   },
   "source": [
    "\n",
    "###  8 node, 8-4 window, 16384 buffer, 16 parallelism, th_90\n",
    "\n",
    "Parameters:\n",
    "- 888K tuples/second Data generation rate and throughout\n",
    "- Sleep 1 ms for every 73 tuples generated\n",
    "\n",
    "\n"
   ]
  },
  {
   "cell_type": "code",
   "execution_count": 14,
   "metadata": {
    "collapsed": false
   },
   "outputs": [
    {
     "name": "stdout",
     "output_type": "stream",
     "text": [
      "18000\n"
     ]
    },
    {
     "name": "stderr",
     "output_type": "stream",
     "text": [
      "/Library/Frameworks/Python.framework/Versions/3.5/lib/python3.5/site-packages/matplotlib/figure.py:1742: UserWarning: This figure includes Axes that are not compatible with tight_layout, so its results might be incorrect.\n",
      "  warnings.warn(\"This figure includes Axes that are not \"\n"
     ]
    },
    {
     "data": {
      "image/png": "[encoded data removed]",
      "text/plain": [
       "<matplotlib.figure.Figure at 0x109d11240>"
      ]
     },
     "metadata": {},
     "output_type": "display_data"
    },
    {
     "data": {
      "image/png": "[encoded data removed]",
      "text/plain": [
       "<matplotlib.figure.Figure at 0x10cc5aba8>"
      ]
     },
     "metadata": {},
     "output_type": "display_data"
    },
    {
     "name": "stdout",
     "output_type": "stream",
     "text": [
      "average latency is:\n",
      "1932.31574133\n",
      "min latency is:\n",
      "182.0\n",
      "max latency is:\n",
      "11040.0\n",
      "quantiles:\n",
      "3324.0\n",
      "5005.75\n",
      "7630.0\n"
     ]
    }
   ],
   "source": [
    "drawAggregationFigures('../results/storm_agg_8node_th_90.csv','../paper/images/eps/storm_agg_8node_th_90'\n",
    "                       ,[0,10000],(4,2),100,200, (0,40000), 2000, 15000, (0,18000))\n",
    "\n"
   ]
  },
  {
   "cell_type": "code",
   "execution_count": null,
   "metadata": {
    "collapsed": false
   },
   "outputs": [],
   "source": [
    "\n"
   ]
  },
  {
   "cell_type": "markdown",
   "metadata": {},
   "source": []
  },
  {
   "cell_type": "code",
   "execution_count": null,
   "metadata": {
    "collapsed": false
   },
   "outputs": [],
   "source": [
    "\n"
   ]
  },
  {
   "cell_type": "code",
   "execution_count": null,
   "metadata": {
    "collapsed": true
   },
   "outputs": [],
   "source": []
  }
 ],
 "metadata": {
  "kernelspec": {
   "display_name": "Python 3",
   "language": "python",
   "name": "python3"
  },
  "language_info": {
   "codemirror_mode": {
    "name": "ipython",
    "version": 3
   },
   "file_extension": ".py",
   "mimetype": "text/x-python",
   "name": "python",
   "nbconvert_exporter": "python",
   "pygments_lexer": "ipython3",
   "version": "3.5.3"
  }
 },
 "nbformat": 4,
 "nbformat_minor": 1
}
