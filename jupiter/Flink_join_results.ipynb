{
 "cells": [
  {
   "cell_type": "code",
   "execution_count": 2,
   "metadata": {
    "collapsed": true
   },
   "outputs": [],
   "source": [
    "import matplotlib.pyplot as plt\n",
    "import pandas as pd #this is how I usually import pandas\n",
    "import sys #only needed to determine Python version number\n",
    "import matplotlib #only needed to determine Matplotlib version number\n",
    "import glob\n",
    "import numpy as np\n",
    "import os, glob\n",
    "import csv\n",
    "import operator\n",
    "from matplotlib import rcParams\n",
    "\n",
    "\n",
    "\n",
    "def buildDataFrame(filePath, colNames, dropCols, numericCols, quant):\n",
    "    df_temp = pd.read_csv(filePath,names=colNames)\n",
    "    for colName in dropCols:\n",
    "        df_temp = df_temp.drop(colName, 1)\n",
    "    df_temp = df_temp[numericCols].apply(pd.to_numeric,errors='coerce')\n",
    "    df_temp = df_temp.sort_values(by='start_ts', ascending=[True])\n",
    "    if quant != 0:\n",
    "        df_temp = df_temp[df_temp.start_ts > df_temp.start_ts.quantile(quant)]\n",
    "    return df_temp\n",
    "\n",
    "#['geo','latency','mx','mn','wc','start_ts']\n",
    "def pruneForDenseWindows(dataframe,percentage):\n",
    "    pd.to_numeric(dataframe.wc)\n",
    "    topWindows = dataframe.wc.quantile(percentage)\n",
    "    #print(topWindows)\n",
    "    dataframe = dataframe[dataframe.wc > topWindows  ]\n",
    "    return dataframe\n",
    "\n",
    "\n",
    "def pandasDraw(listOfFilePaths,_figsize,_range, colNames, dropCols, numericCols, quant, isLatency):\n",
    "    for fileGroup in listOfFilePaths:\n",
    "        df_list = []\n",
    "        for file in fileGroup:\n",
    "            column_name = file.rsplit('.', 1)[0]\n",
    "            temp_df = buildDataFrame(file, colNames, dropCols, numericCols, quant)\n",
    "            if(isLatency):\n",
    "                temp_df_with_cols = pd.DataFrame({column_name:temp_df.latency},\n",
    "                    columns=[column_name])\n",
    "                df_list.append(temp_df_with_cols)\n",
    "            else:\n",
    "                temp_df_with_cols = pd.DataFrame({column_name:temp_df.its},\n",
    "                    columns=[column_name])\n",
    "                df_list.append(temp_df_with_cols)\n",
    "        df_final = pd.concat(df_list)\n",
    "        ax_df_final = df_final.hist(figsize=_figsize,bins=100,range=_range)\n",
    "    plt.show()\n",
    "    \n",
    "\n",
    "\n",
    "def dataGeneratorStats(path,_figsize):\n",
    "    d = {}\n",
    "    fileCount = 0\n",
    "    for filePath in glob.glob(path + '*'):\n",
    "        fileCount = fileCount + 1\n",
    "        reader = csv.reader(open(filePath, 'r'))\n",
    "        for row in reader:\n",
    "            k , v = row\n",
    "            v = int(v) , 1\n",
    "            k = int(k)\n",
    "            if k in d:\n",
    "                d[k]  = tuple(map(operator.add, d[k], v))\n",
    "            else:\n",
    "                d[k] = v\n",
    "    finalD = {}\n",
    "    for k, v in d.items():\n",
    "        if v[1] == fileCount:\n",
    "            finalD[k] = v[0]\n",
    "    df = pd.DataFrame(list(finalD.items()),columns=['ts', 'count'])\n",
    "    df = df.sort_values(by='ts', ascending=[True])\n",
    "    df.plot.bar(y='count', x = 'ts',figsize=_figsize,)\n",
    "    plt.show()\n",
    "\n",
    "def dataGeneratorStatsSeparate(path,_figsize,_xlabel,_ylabel,_xticks):\n",
    "    df_list = []\n",
    "    for filePath in glob.glob(path + '*'):\n",
    "        d = {}\n",
    "        reader = csv.reader(open(filePath, 'r'))\n",
    "        for row in reader:\n",
    "            k , v = row\n",
    "            v = int(v) \n",
    "            k = int(k)\n",
    "            d[k] = v\n",
    "        #print( [int(i[1]) for i in d.items()] )\n",
    "        df = pd.DataFrame({'ts':[int(i[0]) for i in d.items()] , 'count': [int(i[1]) for i in d.items()]},columns=['ts', 'count'])\n",
    "        df = df.sort_values(by='ts', ascending=[True])\n",
    "        minEl = df.ts.iloc[0]\n",
    "        df['ts'] = df['ts'] - minEl\n",
    "        df_list.append(df)\n",
    "        ax=df.plot(y='count', x = 'ts',figsize=_figsize, xticks = np.arange(df.ts.min(),  df.ts.max(), _xticks) ,marker='x')\n",
    "        ax.set_xlabel(_xlabel)\n",
    "        ax.set_ylabel(_ylabel)\n",
    "\n",
    "    #df_final = pd.concat(df_list)\n",
    "    #ax_df_final = df_final.plot.bar(y='count', x = 'ts',figsize=_figsize)\n",
    "    plt.show()\n",
    "\n",
    "def dataGeneratorStatsSeparateOneAxis(path,_figsize,_xlabel,_ylabel,_xticks):\n",
    "    for filePath in glob.glob(path + '*'):\n",
    "        d = {}\n",
    "        reader = csv.reader(open(filePath, 'r'))\n",
    "        for row in reader:\n",
    "            k , v = row\n",
    "            v = int(v) \n",
    "            k = int(k)\n",
    "            d[k] = v\n",
    "        #print( [int(i[1]) for i in d.items()] )\n",
    "        df = pd.DataFrame({'ts':[int(i[0]) for i in d.items()] },columns=['ts'])\n",
    "        df = df.sort_values(by='ts', ascending=[True])\n",
    "        minEl = df.ts.iloc[0]\n",
    "        df['ts'] = df['ts'] - minEl\n",
    "        df['count'] = list(range(1, len(df) + 1))\n",
    "\n",
    "\n",
    "        ax = df.plot.line( x = 'ts',\n",
    "                          y='count',\n",
    "                          figsize=_figsize, \n",
    "                          marker='x',\n",
    "                          xticks = np.arange(df.ts.min(),  df.ts.max(), _xticks))\n",
    "        ax.set_xlabel(_xlabel)\n",
    "        ax.set_ylabel(_ylabel)\n",
    "        \n",
    "    #df_final = pd.concat(df_list)\n",
    "    #ax_df_final = df_final.plot.bar(y='count', x = 'ts',figsize=_figsize)\n",
    "    \n",
    "    plt.show()\n",
    "\n",
    "    \n",
    "def dataGeneratorStatsSeparateOneAxis2(path,_figsize,_xlabel,_ylabel,_xticks):\n",
    "    for filePath in glob.glob(path + '*'):\n",
    "        df = pd.read_csv(filePath,names=['ts','count'])\n",
    "        df['count'] = df['count']/1000000;\n",
    "        df = df.sort_values(by='ts', ascending=[True])\n",
    "        minEl = df.ts.iloc[0]\n",
    "        df['ts'] = df['ts'] - minEl\n",
    "\n",
    "        \n",
    "\n",
    "        ax = df.plot.line( x = 'ts',\n",
    "                          y='count',\n",
    "                          figsize=_figsize, \n",
    "                          marker='x',\n",
    "                          xticks = np.arange(df.ts.min(),  df.ts.max(), _xticks))\n",
    "        ax.set_xlabel(_xlabel)\n",
    "        ax.set_ylabel(_ylabel)\n",
    "        \n",
    "    #df_final = pd.concat(df_list)\n",
    "    #ax_df_final = df_final.plot.bar(y='count', x = 'ts',figsize=_figsize)\n",
    "    \n",
    "    plt.show()\n",
    "\n",
    "def latencyTimeSeries(df,_figsize,_xticks,out_path,_ylim_ts,_yticks_ts):\n",
    "    # df.plot.bar(y='latency', x = 'start_ts',figsize=(100,40))\n",
    "\n",
    "\n",
    "\n",
    "    # plt.show()\n",
    "    #matplotlib.rcParams['agg.path.chunksize'] = 1000\n",
    "    plt.rcParams['agg.path.chunksize'] = 10000\n",
    "    df = df.sort_values(by='start_ts', ascending=[True])\n",
    "    minEl = df.start_ts.iloc[0]\n",
    "    df['start_ts'] = df['start_ts'] - minEl\n",
    "    df['start_ts'] = df['start_ts'] /1000\n",
    "    df['start_ts'] = df['start_ts'] * 2\n",
    "    fig, ax = plt.subplots()\n",
    "    df.plot.line(rasterized=True,legend=False,\n",
    "                 ylim=_ylim_ts,\n",
    "                 y='latency', \n",
    "                 x = 'start_ts',\n",
    "                 figsize=_figsize,\n",
    "                 xticks = np.arange(df.start_ts.min(),  df.start_ts.max(), _xticks),\n",
    "                 yticks = np.arange(0,  _ylim_ts[1], _yticks_ts), \n",
    "\n",
    "\n",
    "                 ax=ax)\n",
    "    ax.set(xlabel=\"Timestamp\", ylabel=\"Latency (ms)\")\n",
    "\n",
    "\n",
    "    plt.setp( ax.get_xticklabels(), visible=True)\n",
    "    fig.savefig(out_path + '_ts.eps', format='eps', dpi=1000)\n",
    "\n",
    "    plt.show()\n",
    "\n",
    "    print('average latency is:')\n",
    "    print(df.latency.mean())\n",
    "    print('min latency is:')\n",
    "    print(df.latency.min())\n",
    "    print('max latency is:')\n",
    "    print(df.latency.max())\n",
    "    print('quantiles:')\n",
    "    print(df.latency.quantile(0.9) )\n",
    "    print( df.latency.quantile(0.95))\n",
    "    print( df.latency.quantile(0.99))\n",
    "\n",
    "\n",
    "\n",
    "def drawAggregationFigures(in_path,out_path,_range,_figsize, _bins, _xticks,_ylim_hist, _ylim_ts,_yticks_ts):\n",
    "    temp_df = buildDataFrame(in_path,\n",
    "               ['latency','start_ts'],\n",
    "               [],\n",
    "               ['latency','start_ts'],\n",
    "              0.25)\n",
    "    df = pd.DataFrame({'latency':temp_df.latency,  'start_ts':temp_df.start_ts},\n",
    "                      columns=['latency','start_ts'])\n",
    "    frames = [df, df]\n",
    "    dfs = pd.concat(frames)\n",
    "    rcParams.update({'figure.autolayout': True})\n",
    "    fig, ax = plt.subplots()\n",
    "    ax_df_final = dfs.latency.plot.hist(ylim=_ylim_hist,figsize=_figsize,bins=_bins,range=_range,ax=ax)\n",
    "    ax.set(xlabel=\"Latency (ms)\", ylabel=\"Count\")\n",
    "    \n",
    "    latencyTimeSeries(df,_figsize,_xticks,out_path,_ylim_ts,_yticks_ts)\n",
    "    fig.savefig(out_path+'_hist.eps', format='eps', dpi=1000)\n",
    "\n",
    "\n",
    "    plt.show()\n",
    "\n",
    "\n",
    "\n",
    "\n",
    "\n",
    "\n",
    "\n",
    "\n",
    "\n",
    "\n"
   ]
  },
  {
   "cell_type": "code",
   "execution_count": null,
   "metadata": {
    "collapsed": false,
    "scrolled": false
   },
   "outputs": [],
   "source": [
    "drawAggregationFigures('/Users/jeka01/Desktop/temp/temp/tt.csv','/Users/jeka01/Desktop/temp/temp/tt',[0,20000],(12,5),100,100,\n",
    "                      (0,400000), (0,35000))\n",
    "\n",
    "\n",
    "\n"
   ]
  },
  {
   "cell_type": "markdown",
   "metadata": {},
   "source": [
    "### Flink 16x, 2 node, 8-4 window th_max\n",
    "\n",
    "Parameters:\n",
    "- 851K tuples/second Data generation rate and throughout\n",
    "- Sleep 1 ms for every 68 tuples generated,( 0.5 , 1000 selectivity, 1000 price range) \n",
    "- 8192 buffer\n",
    "\n",
    "\n"
   ]
  },
  {
   "cell_type": "code",
   "execution_count": 3,
   "metadata": {
    "collapsed": false,
    "scrolled": false
   },
   "outputs": [
    {
     "name": "stderr",
     "output_type": "stream",
     "text": [
      "/Library/Frameworks/Python.framework/Versions/3.5/lib/python3.5/site-packages/matplotlib/figure.py:1742: UserWarning: This figure includes Axes that are not compatible with tight_layout, so its results might be incorrect.\n",
      "  warnings.warn(\"This figure includes Axes that are not \"\n"
     ]
    },
    {
     "data": {
      "image/png": "[encoded data removed]",
      "text/plain": [
       "<matplotlib.figure.Figure at 0x106a0e9b0>"
      ]
     },
     "metadata": {},
     "output_type": "display_data"
    },
    {
     "data": {
      "image/png": "[encoded data removed]",
      "text/plain": [
       "<matplotlib.figure.Figure at 0x105dfcdd8>"
      ]
     },
     "metadata": {},
     "output_type": "display_data"
    },
    {
     "name": "stdout",
     "output_type": "stream",
     "text": [
      "average latency is:\n",
      "4367.39505764\n",
      "min latency is:\n",
      "17\n",
      "max latency is:\n",
      "18230\n",
      "quantiles:\n",
      "7601.0\n",
      "8570.0\n",
      "10554.0\n"
     ]
    }
   ],
   "source": [
    "drawAggregationFigures('../results/flink_join_2node_th_max.csv','../paper/images/eps/flink_join_2node_th_max'\n",
    "                       ,[0,20000],(4,2),100,200,(0,800000), (0,28000),5000)\n",
    "\n"
   ]
  },
  {
   "cell_type": "markdown",
   "metadata": {},
   "source": [
    "### Flink 16x, 2 node, 8-4 window th_90\n",
    "\n",
    "Parameters:\n",
    "- 755K tuples/second Data generation rate and throughout\n",
    "- Sleep 1 ms for every 60 tuples generated,( 0.5 , 1000 selectivity, 1000 price range) \n",
    "- 4096 buffer\n",
    "\n",
    "\n",
    "\n"
   ]
  },
  {
   "cell_type": "code",
   "execution_count": 4,
   "metadata": {
    "collapsed": false
   },
   "outputs": [
    {
     "name": "stderr",
     "output_type": "stream",
     "text": [
      "/Library/Frameworks/Python.framework/Versions/3.5/lib/python3.5/site-packages/matplotlib/figure.py:1742: UserWarning: This figure includes Axes that are not compatible with tight_layout, so its results might be incorrect.\n",
      "  warnings.warn(\"This figure includes Axes that are not \"\n"
     ]
    },
    {
     "data": {
      "image/png": "[encoded data removed]",
      "text/plain": [
       "<matplotlib.figure.Figure at 0x10988d978>"
      ]
     },
     "metadata": {},
     "output_type": "display_data"
    },
    {
     "data": {
      "image/png": "[encoded data removed]",
      "text/plain": [
       "<matplotlib.figure.Figure at 0x169cdf470>"
      ]
     },
     "metadata": {},
     "output_type": "display_data"
    },
    {
     "name": "stdout",
     "output_type": "stream",
     "text": [
      "average latency is:\n",
      "3866.43810664\n",
      "min latency is:\n",
      "19\n",
      "max latency is:\n",
      "13027\n",
      "quantiles:\n",
      "6786.0\n",
      "7569.0\n",
      "8759.0\n"
     ]
    }
   ],
   "source": [
    "drawAggregationFigures('../results/flink_join_2node_th_90.csv','../paper/images/eps/flink_join_2node_th_90'\n",
    "                       ,[0,20000],(4,2),100,200,(0,800000), (0,28000),5000)\n",
    "\n",
    "\n"
   ]
  },
  {
   "cell_type": "markdown",
   "metadata": {},
   "source": [
    "### Flink 16x, 4 node, 8-4 window th_max\n",
    "\n",
    "Parameters:\n",
    "- 1128K tuples/second Data generation rate and throughout\n",
    "- Sleep 1 ms for every 95 tuples generated,( 0.5 , 1000 selectivity, 1000 price range) \n",
    "- 16384 buffer\n",
    "- 5M sustainability rate\n",
    "\n",
    "\n"
   ]
  },
  {
   "cell_type": "code",
   "execution_count": 5,
   "metadata": {
    "collapsed": false
   },
   "outputs": [
    {
     "name": "stderr",
     "output_type": "stream",
     "text": [
      "/Library/Frameworks/Python.framework/Versions/3.5/lib/python3.5/site-packages/matplotlib/figure.py:1742: UserWarning: This figure includes Axes that are not compatible with tight_layout, so its results might be incorrect.\n",
      "  warnings.warn(\"This figure includes Axes that are not \"\n"
     ]
    },
    {
     "data": {
      "image/png": "[encoded data removed]",
      "text/plain": [
       "<matplotlib.figure.Figure at 0x10a2c2dd8>"
      ]
     },
     "metadata": {},
     "output_type": "display_data"
    },
    {
     "data": {
      "image/png": "[encoded data removed]",
      "text/plain": [
       "<matplotlib.figure.Figure at 0x17490fa90>"
      ]
     },
     "metadata": {},
     "output_type": "display_data"
    },
    {
     "name": "stdout",
     "output_type": "stream",
     "text": [
      "average latency is:\n",
      "3671.36731209\n",
      "min latency is:\n",
      "19\n",
      "max latency is:\n",
      "13872\n",
      "quantiles:\n",
      "6756.0\n",
      "7531.0\n",
      "8664.0\n"
     ]
    }
   ],
   "source": [
    "drawAggregationFigures('../results/flink_join_4node_th_max.csv','../paper/images/eps/flink_join_4node_th_max'\n",
    "                       ,[0,20000],(4,2),100,200,(0,800000), (0,28000),5000)\n",
    "\n",
    "\n"
   ]
  },
  {
   "cell_type": "markdown",
   "metadata": {},
   "source": [
    "### Flink 16x, 4 node, 8-4 window th_90\n",
    "\n",
    "Parameters:\n",
    "- 1000K tuples/second Data generation rate and throughout\n",
    "- Sleep 1 ms for every 83 tuples generated,( 0.5 , 1000 selectivity, 1000 price range) \n",
    "- 8192 buffer\n",
    "- 5M sustainability rate\n",
    "\n",
    "\n",
    "\n",
    "\n",
    "\n",
    "\n"
   ]
  },
  {
   "cell_type": "code",
   "execution_count": 6,
   "metadata": {
    "collapsed": false,
    "scrolled": false
   },
   "outputs": [
    {
     "name": "stderr",
     "output_type": "stream",
     "text": [
      "/Library/Frameworks/Python.framework/Versions/3.5/lib/python3.5/site-packages/matplotlib/figure.py:1742: UserWarning: This figure includes Axes that are not compatible with tight_layout, so its results might be incorrect.\n",
      "  warnings.warn(\"This figure includes Axes that are not \"\n"
     ]
    },
    {
     "data": {
      "image/png": "[encoded data removed]",
      "text/plain": [
       "<matplotlib.figure.Figure at 0x106a0e4e0>"
      ]
     },
     "metadata": {},
     "output_type": "display_data"
    },
    {
     "data": {
      "image/png": "[encoded data removed]",
      "text/plain": [
       "<matplotlib.figure.Figure at 0x10a027eb8>"
      ]
     },
     "metadata": {},
     "output_type": "display_data"
    },
    {
     "name": "stdout",
     "output_type": "stream",
     "text": [
      "average latency is:\n",
      "3243.21986099\n",
      "min latency is:\n",
      "16\n",
      "max latency is:\n",
      "12702\n",
      "quantiles:\n",
      "6130.0\n",
      "6901.0\n",
      "8011.0\n"
     ]
    }
   ],
   "source": [
    "drawAggregationFigures('../results/flink_join_4node_th_90.csv','../paper/images/eps/flink_join_4node_th_90'\n",
    "                       ,[0,20000],(4,2),100,200,(0,800000), (0,28000),5000)\n",
    "\n",
    "\n"
   ]
  },
  {
   "cell_type": "markdown",
   "metadata": {
    "collapsed": true
   },
   "source": [
    "### Flink 16x, 8 node, 8-4 window th_max\n",
    "\n",
    "Parameters:\n",
    "- 1170K tuples/second Data generation rate and throughout\n",
    "- Sleep 1 ms for every 100 tuples generated,( 0.5 , 1000 selectivity, 1000 price range) \n",
    "- 16384 buffer\n",
    "- 5M sustainability rate\n",
    "\n"
   ]
  },
  {
   "cell_type": "code",
   "execution_count": 7,
   "metadata": {
    "collapsed": false
   },
   "outputs": [
    {
     "name": "stderr",
     "output_type": "stream",
     "text": [
      "/Library/Frameworks/Python.framework/Versions/3.5/lib/python3.5/site-packages/matplotlib/figure.py:1742: UserWarning: This figure includes Axes that are not compatible with tight_layout, so its results might be incorrect.\n",
      "  warnings.warn(\"This figure includes Axes that are not \"\n"
     ]
    },
    {
     "data": {
      "image/png": "[encoded data removed]",
      "text/plain": [
       "<matplotlib.figure.Figure at 0x1691a94a8>"
      ]
     },
     "metadata": {},
     "output_type": "display_data"
    },
    {
     "data": {
      "image/png": "[encoded data removed]",
      "text/plain": [
       "<matplotlib.figure.Figure at 0x1099b5eb8>"
      ]
     },
     "metadata": {},
     "output_type": "display_data"
    },
    {
     "name": "stdout",
     "output_type": "stream",
     "text": [
      "average latency is:\n",
      "3275.22958892\n",
      "min latency is:\n",
      "22\n",
      "max latency is:\n",
      "14934\n",
      "quantiles:\n",
      "6241.0\n",
      "7045.0\n",
      "8436.0\n"
     ]
    }
   ],
   "source": [
    "drawAggregationFigures('../results/flink_join_8node_th_max.csv','../paper/images/eps/flink_join_8node_th_max'\n",
    "                       ,[0,20000],(4,2),100,200,(0,800000), (0,28000),5000)\n",
    "\n",
    "\n"
   ]
  },
  {
   "cell_type": "markdown",
   "metadata": {
    "collapsed": true
   },
   "source": [
    "### Flink 16x, 8 node, 8-4 window th_90\n",
    "\n",
    "Parameters:\n",
    "- 1120K tuples/second Data generation rate and throughout\n",
    "- Sleep 1 ms for every 95 tuples generated,( 0.5 , 1000 selectivity, 1000 price range) \n",
    "- 16384 buffer\n",
    "- 5M sustainability rate\n",
    "\n"
   ]
  },
  {
   "cell_type": "code",
   "execution_count": 8,
   "metadata": {
    "collapsed": false
   },
   "outputs": [
    {
     "name": "stderr",
     "output_type": "stream",
     "text": [
      "/Library/Frameworks/Python.framework/Versions/3.5/lib/python3.5/site-packages/matplotlib/figure.py:1742: UserWarning: This figure includes Axes that are not compatible with tight_layout, so its results might be incorrect.\n",
      "  warnings.warn(\"This figure includes Axes that are not \"\n"
     ]
    },
    {
     "data": {
      "image/png": "[encoded data removed]",
      "text/plain": [
       "<matplotlib.figure.Figure at 0x1a70f0be0>"
      ]
     },
     "metadata": {},
     "output_type": "display_data"
    },
    {
     "data": {
      "image/png": "[encoded data removed]",
      "text/plain": [
       "<matplotlib.figure.Figure at 0x16ea51d68>"
      ]
     },
     "metadata": {},
     "output_type": "display_data"
    },
    {
     "name": "stdout",
     "output_type": "stream",
     "text": [
      "average latency is:\n",
      "3240.50339004\n",
      "min latency is:\n",
      "16\n",
      "max latency is:\n",
      "14978\n",
      "quantiles:\n",
      "6199.0\n",
      "6995.0\n",
      "8304.0\n"
     ]
    }
   ],
   "source": [
    "drawAggregationFigures('../results/flink_join_8node_th_90.csv','../paper/images/eps/flink_join_8node_th_90'\n",
    "                       ,[0,20000],(4,2),100,200,(0,800000), (0,28000),5000)\n",
    "\n",
    "\n"
   ]
  },
  {
   "cell_type": "code",
   "execution_count": null,
   "metadata": {
    "collapsed": true
   },
   "outputs": [],
   "source": []
  },
  {
   "cell_type": "code",
   "execution_count": null,
   "metadata": {
    "collapsed": true
   },
   "outputs": [],
   "source": []
  },
  {
   "cell_type": "code",
   "execution_count": null,
   "metadata": {
    "collapsed": true
   },
   "outputs": [],
   "source": []
  },
  {
   "cell_type": "code",
   "execution_count": null,
   "metadata": {
    "collapsed": true
   },
   "outputs": [],
   "source": []
  },
  {
   "cell_type": "markdown",
   "metadata": {
    "collapsed": true
   },
   "source": []
  },
  {
   "cell_type": "code",
   "execution_count": null,
   "metadata": {
    "collapsed": false
   },
   "outputs": [],
   "source": [
    "\n"
   ]
  },
  {
   "cell_type": "markdown",
   "metadata": {},
   "source": []
  },
  {
   "cell_type": "code",
   "execution_count": null,
   "metadata": {
    "collapsed": false
   },
   "outputs": [],
   "source": [
    "\n"
   ]
  },
  {
   "cell_type": "markdown",
   "metadata": {},
   "source": []
  },
  {
   "cell_type": "code",
   "execution_count": null,
   "metadata": {
    "collapsed": false
   },
   "outputs": [],
   "source": [
    "\n"
   ]
  },
  {
   "cell_type": "code",
   "execution_count": null,
   "metadata": {
    "collapsed": false
   },
   "outputs": [],
   "source": [
    "\n"
   ]
  },
  {
   "cell_type": "code",
   "execution_count": null,
   "metadata": {
    "collapsed": true
   },
   "outputs": [],
   "source": []
  }
 ],
 "metadata": {
  "kernelspec": {
   "display_name": "Python 3",
   "language": "python",
   "name": "python3"
  },
  "language_info": {
   "codemirror_mode": {
    "name": "ipython",
    "version": 3
   },
   "file_extension": ".py",
   "mimetype": "text/x-python",
   "name": "python",
   "nbconvert_exporter": "python",
   "pygments_lexer": "ipython3",
   "version": "3.5.3"
  }
 },
 "nbformat": 4,
 "nbformat_minor": 1
}
